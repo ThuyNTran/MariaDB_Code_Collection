{
 "cells": [
  {
   "cell_type": "markdown",
   "metadata": {},
   "source": [
    "+ Main instruction: [from mariadb website](https://mariadb.com/kb/en/library/mariadb-columnstore-with-spark/)\n",
    "+ Connector: ```mariadb-java-client-2.3.0.jar```, [download from here](https://mariadb.com/downloads/connector)\n",
    "\n",
    "This code demo to include the connection jar in run time, then load a table from a database in a Mariad Server. (local host in this case).\n",
    "\n",
    "Spark and MariaDB were both run on local machine - OSX 10.11.6 \n",
    "\n",
    "201810\n",
    "\n"
   ]
  },
  {
   "cell_type": "code",
   "execution_count": 1,
   "metadata": {},
   "outputs": [],
   "source": [
    "from pyspark.sql import SparkSession"
   ]
  },
  {
   "cell_type": "code",
   "execution_count": 3,
   "metadata": {},
   "outputs": [],
   "source": [
    "spark = SparkSession.builder.master(\"local\").appName(\"mariaDBTest\")\\\n",
    "    .config(\"spark.jars\", \"mariadb-java-client-2.3.0.jar\")\\\n",
    "    .getOrCreate()   "
   ]
  },
  {
   "cell_type": "code",
   "execution_count": 4,
   "metadata": {},
   "outputs": [
    {
     "data": {
      "text/html": [
       "\n",
       "            <div>\n",
       "                <p><b>SparkSession - in-memory</b></p>\n",
       "                \n",
       "        <div>\n",
       "            <p><b>SparkContext</b></p>\n",
       "\n",
       "            <p><a href=\"http://192.168.0.4:4040\">Spark UI</a></p>\n",
       "\n",
       "            <dl>\n",
       "              <dt>Version</dt>\n",
       "                <dd><code>v2.3.2</code></dd>\n",
       "              <dt>Master</dt>\n",
       "                <dd><code>local</code></dd>\n",
       "              <dt>AppName</dt>\n",
       "                <dd><code>mariaDBTest</code></dd>\n",
       "            </dl>\n",
       "        </div>\n",
       "        \n",
       "            </div>\n",
       "        "
      ],
      "text/plain": [
       "<pyspark.sql.session.SparkSession at 0x114247bd0>"
      ]
     },
     "execution_count": 4,
     "metadata": {},
     "output_type": "execute_result"
    }
   ],
   "source": [
    "spark"
   ]
  },
  {
   "cell_type": "code",
   "execution_count": 6,
   "metadata": {
    "scrolled": true
   },
   "outputs": [],
   "source": [
    "df = spark.read.format(\"jdbc\").option(\"url\", \"jdbc:mysql://localhost/costcenter\")\\\n",
    "    .option(\"driver\", \"org.mariadb.jdbc.Driver\")\\\n",
    "    .option(\"dbtable\", \"costtable_finance\")\\\n",
    "    .option(\"user\", \"root\").option(\"password\", \"\").load()\n"
   ]
  },
  {
   "cell_type": "code",
   "execution_count": 8,
   "metadata": {},
   "outputs": [
    {
     "name": "stdout",
     "output_type": "stream",
     "text": [
      "+-----+--------------------+--------------------+-------------------+--------------------+------------+\n",
      "|   CC|             Mission|               Tribe|         OldMission|            OldTribe|BusinessUnit|\n",
      "+-----+--------------------+--------------------+-------------------+--------------------+------------+\n",
      "|16011|             Creator|Content Delivery ...|                   |                    | BU Content\r",
      "|\n",
      "|17000|      R&D Leadership|            R&D Lead|           TPD Lead|           TPD Leads|BU Consumer\r",
      "|\n",
      "|17001|       Tech Platform|                 ADP| Developer Platform|                 ADP|BU Consumer\r",
      "|\n",
      "|17002|     Premium Revenue|           Iron Bank|            Revenue|           Iron Bank|BU Premium \r",
      "|\n",
      "|17003|            Consumer|            Playback|Consumer Experience|            Playback|BU Consumer\r",
      "|\n",
      "|17004|            Consumer|     Core Experience|Consumer Experience|     Core Experience|BU Consumer\r",
      "|\n",
      "|17005|     User Engagement|                 Jam|    User Engagement|                 Jam|BU Consumer\r",
      "|\n",
      "|17006|            Consumer|Platform & Partne...|Consumer Experience|Platform & Partne...|BU Consumer\r",
      "|\n",
      "|17007|       Tech Platform|                  IO| Developer Platform|                  IO|BU Consumer\r",
      "|\n",
      "|17008|       Tech Platform|              Arcade|              Atlas|  BIS / New: Arcade.|BU Consumer\r",
      "|\n",
      "|17009|      R&D Leadership|      R&D Operations|     TPD Operations|      TPD Operations|BU Consumer\r",
      "|\n",
      "|17010|        Free Revenue|               CREAM|            Revenue|               CREAM|    BU Free\r",
      "|\n",
      "|17012|             Creator|             Creator|            Creator|             Creator| BU Content\r",
      "|\n",
      "|17013|Streaming Deliver...|  Streaming Delivery| Developer Platform|  Streaming Delivery|BU Consumer\r",
      "|\n",
      "|17014|       Tech Platform|Internal IT Equip...|              Atlas|Internal IT Equip...|BU Consumer\r",
      "|\n",
      "|17015|     User Engagement|User Engagement L...|    User Engagement|User Engagement L...|BU Consumer\r",
      "|\n",
      "|17016|Growth Opportunities|                  GO|                 GO|Growth Opportunities| BU Markets\r",
      "|\n",
      "|17017|        Free Revenue|Free Revenue Mission|            Revenue|       Revenue Leads|    BU Free\r",
      "|\n",
      "|17018|            Consumer|      Consumer Leads|Consumer Experience|Consumer Experien...|BU Consumer\r",
      "|\n",
      "|17019|            Consumer|                 SDK|Consumer Experience|                 SDK|BU Consumer\r",
      "|\n",
      "+-----+--------------------+--------------------+-------------------+--------------------+------------+\n",
      "only showing top 20 rows\n",
      "\n"
     ]
    }
   ],
   "source": [
    "df.show()"
   ]
  },
  {
   "cell_type": "code",
   "execution_count": 9,
   "metadata": {},
   "outputs": [
    {
     "data": {
      "text/plain": [
       "64"
      ]
     },
     "execution_count": 9,
     "metadata": {},
     "output_type": "execute_result"
    }
   ],
   "source": [
    "df.count()"
   ]
  },
  {
   "cell_type": "code",
   "execution_count": null,
   "metadata": {},
   "outputs": [],
   "source": []
  }
 ],
 "metadata": {
  "hide_input": false,
  "kernelspec": {
   "display_name": "Python 2",
   "language": "python",
   "name": "python2"
  },
  "language_info": {
   "codemirror_mode": {
    "name": "ipython",
    "version": 2
   },
   "file_extension": ".py",
   "mimetype": "text/x-python",
   "name": "python",
   "nbconvert_exporter": "python",
   "pygments_lexer": "ipython2",
   "version": "2.7.13"
  },
  "toc": {
   "base_numbering": 1,
   "nav_menu": {},
   "number_sections": true,
   "sideBar": true,
   "skip_h1_title": false,
   "title_cell": "Table of Contents",
   "title_sidebar": "Contents",
   "toc_cell": false,
   "toc_position": {},
   "toc_section_display": true,
   "toc_window_display": false
  }
 },
 "nbformat": 4,
 "nbformat_minor": 2
}
